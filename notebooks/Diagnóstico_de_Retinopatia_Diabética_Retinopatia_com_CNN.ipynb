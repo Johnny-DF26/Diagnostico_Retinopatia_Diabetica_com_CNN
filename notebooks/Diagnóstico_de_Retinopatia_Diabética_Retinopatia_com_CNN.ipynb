{
  "cells": [
    {
      "cell_type": "markdown",
      "metadata": {
        "id": "ooaOi5LgmsoL"
      },
      "source": [
        "# <font color='bluegreen'> **Diagnóstico de Retinopatia Diabética com CNN**"
      ]
    },
    {
      "cell_type": "markdown",
      "metadata": {
        "id": "M3PJGoqvm4yM"
      },
      "source": [
        "## <font color='red'> **Situação Problema**"
      ]
    },
    {
      "cell_type": "markdown",
      "metadata": {
        "id": "rtgOxFPLmoKk"
      },
      "source": [
        "**Sobre o conjunto de dados:**\\\n",
        "A prevalência da Retinopatia Diabética é alarmantemente elevada, afetando uma proporção significativa de indivíduos com diabetes de longa data. A detecção precoce e o tratamento oportuno são cruciais para prevenir a perda de visão e melhorar os resultados dos pacientes. No entanto, a interpretação manual de imagens da retina para o rastreio da Retinopatia Diabética pode ser demorada e sujeita a erros humanos. Portanto, há uma necessidade premente de uma ferramenta automatizada e precisa que possa auxiliar os profissionais de saúde na classificação da gravidade da Retinopatia Diabética.\n",
        "Os métodos existentes para detectar e classificar a Retinopatia Diabética baseiam-se frequentemente em avaliações subjectivas e extenso trabalho manual, levando a ineficiências e potenciais inconsistências no diagnóstico. Além disso, a crescente prevalência da diabetes e a disponibilidade limitada de oftalmologistas agravam ainda mais os desafios no rastreio e diagnóstico atempados. Portanto, há necessidade de desenvolver um sistema automatizado robusto e confiável que possa detectar e classificar com precisão a Retinopatia Diabética, permitindo intervenção precoce e planos de tratamento personalizados.\n",
        "\n",
        "**Descrição de dados :**\\\n",
        "Este conjunto de dados consiste em uma grande coleção de imagens retinais de alta resolução capturadas sob várias condições de imagem. Um profissional médico avaliou a presença de Retinopatia Diabética em cada imagem e atribuiu uma classificação numa escala que varia entre 0 e 1, que corresponde às seguintes categorias:\n",
        "\n",
        "<font color='red'> **Retinopatia Diabética ---> 0**\\\n",
        "<font color='lightgreen'> **Sem Retinopatia Diabética ---> 1**"
      ]
    },
    {
      "cell_type": "markdown",
      "metadata": {
        "id": "lrH8yU5on1Eq"
      },
      "source": [
        "## <font color='yellowgreen'> **Bibliotecas**"
      ]
    },
    {
      "cell_type": "code",
      "execution_count": 5,
      "metadata": {
        "colab": {
          "base_uri": "https://localhost:8080/"
        },
        "id": "C7gd4K9oCeUi",
        "outputId": "2ee7a041-b8f5-459c-87ba-34cf7b9f5e83"
      },
      "outputs": [
        {
          "name": "stdout",
          "output_type": "stream",
          "text": [
            "Mounted at /content/drive\n"
          ]
        }
      ],
      "source": [
        "from google.colab import drive\n",
        "drive.mount('/content/drive')"
      ]
    },
    {
      "cell_type": "code",
      "execution_count": 41,
      "metadata": {
        "id": "eNFdhmxIoAA2"
      },
      "outputs": [],
      "source": [
        "import numpy as np\n",
        "import matplotlib.pyplot as plt\n",
        "import seaborn as sns\n",
        "import zipfile\n",
        "import os\n",
        "from sklearn.model_selection import train_test_split\n",
        "from sklearn.metrics import accuracy_score, classification_report, confusion_matrix, ConfusionMatrixDisplay\n",
        "from keras.models import Sequential, Model\n",
        "from keras.layers import Conv2D, BatchNormalization, GlobalAveragePooling2D, MaxPooling2D, Flatten\n",
        "from keras.layers import Input, Dense, Dropout\n",
        "from keras.preprocessing.image import ImageDataGenerator\n",
        "from keras.applications import Xception"
      ]
    },
    {
      "cell_type": "code",
      "execution_count": 24,
      "metadata": {
        "id": "s_XwNnL0omLs"
      },
      "outputs": [],
      "source": [
        "# Configurações\n",
        "\n",
        "sns.set(style='darkgrid')"
      ]
    },
    {
      "cell_type": "markdown",
      "metadata": {
        "id": "WUSFH035oqYV"
      },
      "source": [
        "## <font color='yellowgreen'> **Base de Dados**"
      ]
    },
    {
      "cell_type": "code",
      "execution_count": 25,
      "metadata": {
        "id": "sfHbb5ukop18"
      },
      "outputs": [],
      "source": [
        "path = '/content/drive/MyDrive/Visão Computacional/Datasets/diabetes.zip'\n",
        "\n",
        "with zipfile.ZipFile(path, 'r') as f:\n",
        "    f.extractall('')"
      ]
    },
    {
      "cell_type": "code",
      "execution_count": 26,
      "metadata": {
        "colab": {
          "base_uri": "https://localhost:8080/"
        },
        "id": "WoDotLExpHgG",
        "outputId": "6b4df65c-f89e-482f-a2b2-0cb2af197fe2"
      },
      "outputs": [
        {
          "name": "stdout",
          "output_type": "stream",
          "text": [
            "Found 2076 images belonging to 2 classes.\n"
          ]
        }
      ],
      "source": [
        "gerador_treino = ImageDataGenerator(rescale=1./255, zoom_range=0.2, horizontal_flip=True,\n",
        "                                   rotation_range=10, shear_range=0.2)\n",
        "\n",
        "imagens_treino = gerador_treino.flow_from_directory('/content/dataset/train', target_size=(224,224),\n",
        "                                                    class_mode='categorical', batch_size=32, shuffle=True)"
      ]
    },
    {
      "cell_type": "code",
      "execution_count": 27,
      "metadata": {
        "colab": {
          "base_uri": "https://localhost:8080/"
        },
        "id": "ggJjFYzErzZZ",
        "outputId": "d8a89029-df29-4191-ec9f-fc757a3e0fca"
      },
      "outputs": [
        {
          "name": "stdout",
          "output_type": "stream",
          "text": [
            "Found 531 images belonging to 2 classes.\n"
          ]
        }
      ],
      "source": [
        "gerador_val = ImageDataGenerator(rescale=1./255)\n",
        "\n",
        "imagens_val = gerador_val.flow_from_directory('/content/dataset/valid', target_size=(224,224),\n",
        "                                                    class_mode='categorical', batch_size=1, shuffle=False)"
      ]
    },
    {
      "cell_type": "markdown",
      "metadata": {
        "id": "_fRjPWJkNakV"
      },
      "source": [
        "## <font color='yellowgreen'> **Rede Neural Manual<font color='red'> (loss: 0.2460 - accuracy: 0.9002)**"
      ]
    },
    {
      "cell_type": "markdown",
      "metadata": {
        "id": "BPUSCnxDsIEK"
      },
      "source": [
        "### <font color='yellowgreen'> **Estrutura da Rede neural**"
      ]
    },
    {
      "cell_type": "code",
      "execution_count": 28,
      "metadata": {
        "colab": {
          "base_uri": "https://localhost:8080/"
        },
        "id": "TdOE4Q5IsBsz",
        "outputId": "2e8987e7-f6f3-4cd5-a59b-e43dbfd378e7"
      },
      "outputs": [
        {
          "name": "stdout",
          "output_type": "stream",
          "text": [
            "Model: \"sequential_2\"\n",
            "_________________________________________________________________\n",
            " Layer (type)                Output Shape              Param #   \n",
            "=================================================================\n",
            " conv2d_8 (Conv2D)           (None, 222, 222, 32)      896       \n",
            "                                                                 \n",
            " max_pooling2d_8 (MaxPoolin  (None, 111, 111, 32)      0         \n",
            " g2D)                                                            \n",
            "                                                                 \n",
            " conv2d_9 (Conv2D)           (None, 109, 109, 32)      9248      \n",
            "                                                                 \n",
            " max_pooling2d_9 (MaxPoolin  (None, 54, 54, 32)        0         \n",
            " g2D)                                                            \n",
            "                                                                 \n",
            " conv2d_10 (Conv2D)          (None, 52, 52, 32)        9248      \n",
            "                                                                 \n",
            " max_pooling2d_10 (MaxPooli  (None, 26, 26, 32)        0         \n",
            " ng2D)                                                           \n",
            "                                                                 \n",
            " conv2d_11 (Conv2D)          (None, 24, 24, 32)        9248      \n",
            "                                                                 \n",
            " max_pooling2d_11 (MaxPooli  (None, 12, 12, 32)        0         \n",
            " ng2D)                                                           \n",
            "                                                                 \n",
            " flatten_2 (Flatten)         (None, 4608)              0         \n",
            "                                                                 \n",
            " dense_8 (Dense)             (None, 2300)              10600700  \n",
            "                                                                 \n",
            " dropout_6 (Dropout)         (None, 2300)              0         \n",
            "                                                                 \n",
            " dense_9 (Dense)             (None, 2300)              5292300   \n",
            "                                                                 \n",
            " dropout_7 (Dropout)         (None, 2300)              0         \n",
            "                                                                 \n",
            " dense_10 (Dense)            (None, 2300)              5292300   \n",
            "                                                                 \n",
            " dropout_8 (Dropout)         (None, 2300)              0         \n",
            "                                                                 \n",
            " dense_11 (Dense)            (None, 2)                 4602      \n",
            "                                                                 \n",
            "=================================================================\n",
            "Total params: 21218542 (80.94 MB)\n",
            "Trainable params: 21218542 (80.94 MB)\n",
            "Non-trainable params: 0 (0.00 Byte)\n",
            "_________________________________________________________________\n"
          ]
        }
      ],
      "source": [
        "network = Sequential()\n",
        "network.add(Input(shape=(224, 224, 3)))\n",
        "\n",
        "network.add(Conv2D(filters=32, kernel_size=(3,3), strides=(1,1)))\n",
        "network.add(MaxPooling2D(pool_size=(2,2)))\n",
        "network.add(Conv2D(filters=32, kernel_size=(3,3), strides=(1,1)))\n",
        "network.add(MaxPooling2D(pool_size=(2,2)))\n",
        "network.add(Conv2D(filters=32, kernel_size=(3,3), strides=(1,1)))\n",
        "network.add(MaxPooling2D(pool_size=(2,2)))\n",
        "network.add(Conv2D(filters=32, kernel_size=(3,3), strides=(1,1)))\n",
        "network.add(MaxPooling2D(pool_size=(2,2)))\n",
        "\n",
        "network.add(Flatten())\n",
        "\n",
        "network.add(Dense(units=2300, activation='relu'))\n",
        "network.add(Dropout(0.2))\n",
        "network.add(Dense(units=2300, activation='relu'))\n",
        "network.add(Dropout(0.2))\n",
        "network.add(Dense(units=2300, activation='relu'))\n",
        "network.add(Dropout(0.2))\n",
        "network.add(Dense(units=2, activation='softmax'))\n",
        "\n",
        "network.compile(optimizer='adam', loss='categorical_crossentropy', metrics=['accuracy'])\n",
        "network.summary()"
      ]
    },
    {
      "cell_type": "markdown",
      "metadata": {
        "id": "zf54eC3guHu7"
      },
      "source": [
        "### <font color='yellowgreen'> **Treinando o Modelo**"
      ]
    },
    {
      "cell_type": "code",
      "execution_count": 29,
      "metadata": {
        "colab": {
          "base_uri": "https://localhost:8080/"
        },
        "id": "u0t3ijbttdgE",
        "outputId": "dd2b054c-981f-40ad-da81-109f3e777572"
      },
      "outputs": [
        {
          "name": "stdout",
          "output_type": "stream",
          "text": [
            "Epoch 1/15\n",
            "65/65 [==============================] - 36s 508ms/step - loss: 0.7549 - accuracy: 0.6590 - val_loss: 0.3237 - val_accuracy: 0.8644\n",
            "Epoch 2/15\n",
            "65/65 [==============================] - 34s 519ms/step - loss: 0.3895 - accuracy: 0.8237 - val_loss: 0.3301 - val_accuracy: 0.8437\n",
            "Epoch 3/15\n",
            "65/65 [==============================] - 32s 498ms/step - loss: 0.3496 - accuracy: 0.8449 - val_loss: 0.2344 - val_accuracy: 0.8832\n",
            "Epoch 4/15\n",
            "65/65 [==============================] - 33s 507ms/step - loss: 0.2831 - accuracy: 0.8863 - val_loss: 0.2328 - val_accuracy: 0.9040\n",
            "Epoch 5/15\n",
            "65/65 [==============================] - 34s 521ms/step - loss: 0.2797 - accuracy: 0.8829 - val_loss: 0.1956 - val_accuracy: 0.9171\n",
            "Epoch 6/15\n",
            "65/65 [==============================] - 31s 480ms/step - loss: 0.2539 - accuracy: 0.9061 - val_loss: 0.1778 - val_accuracy: 0.9190\n",
            "Epoch 7/15\n",
            "65/65 [==============================] - 31s 480ms/step - loss: 0.2591 - accuracy: 0.9013 - val_loss: 0.2015 - val_accuracy: 0.9209\n",
            "Epoch 8/15\n",
            "65/65 [==============================] - 32s 492ms/step - loss: 0.2320 - accuracy: 0.9109 - val_loss: 0.1891 - val_accuracy: 0.9228\n",
            "Epoch 9/15\n",
            "65/65 [==============================] - 31s 475ms/step - loss: 0.2090 - accuracy: 0.9244 - val_loss: 0.1777 - val_accuracy: 0.9266\n",
            "Epoch 10/15\n",
            "65/65 [==============================] - 31s 478ms/step - loss: 0.2385 - accuracy: 0.9133 - val_loss: 0.1826 - val_accuracy: 0.9284\n",
            "Epoch 11/15\n",
            "65/65 [==============================] - 30s 463ms/step - loss: 0.2235 - accuracy: 0.9128 - val_loss: 0.1732 - val_accuracy: 0.9266\n",
            "Epoch 12/15\n",
            "65/65 [==============================] - 31s 483ms/step - loss: 0.2508 - accuracy: 0.9066 - val_loss: 0.2010 - val_accuracy: 0.9247\n",
            "Epoch 13/15\n",
            "65/65 [==============================] - 31s 484ms/step - loss: 0.2150 - accuracy: 0.9258 - val_loss: 0.2274 - val_accuracy: 0.9209\n",
            "Epoch 14/15\n",
            "65/65 [==============================] - 31s 478ms/step - loss: 0.2260 - accuracy: 0.9220 - val_loss: 0.1999 - val_accuracy: 0.9303\n",
            "Epoch 15/15\n",
            "65/65 [==============================] - 31s 474ms/step - loss: 0.2403 - accuracy: 0.9061 - val_loss: 0.2460 - val_accuracy: 0.9002\n"
          ]
        }
      ],
      "source": [
        "historico = network.fit(imagens_treino, epochs=15, validation_data=imagens_val)"
      ]
    },
    {
      "cell_type": "markdown",
      "metadata": {
        "id": "zT5yBCEx8fa6"
      },
      "source": [
        "### <font color='yellowgreen'> **Avaliando o Modelo**"
      ]
    },
    {
      "cell_type": "code",
      "execution_count": 30,
      "metadata": {
        "colab": {
          "base_uri": "https://localhost:8080/",
          "height": 451
        },
        "id": "ZB_94YG75tGu",
        "outputId": "eeb17847-4603-4758-b71d-e68eabacd8d6"
      },
      "outputs": [
        {
          "data": {
            "image/png": "[encoded data removed]",
            "text/plain": [
              "<Figure size 1200x400 with 2 Axes>"
            ]
          },
          "metadata": {},
          "output_type": "display_data"
        }
      ],
      "source": [
        "fig, axs = plt.subplots(1, 2, figsize=(12,4))\n",
        "\n",
        "plt.suptitle('Gráficos de Desempenho do Modelo', y=1.01)\n",
        "axs[0].plot(historico.history['accuracy'])\n",
        "axs[0].plot(historico.history['val_accuracy'])\n",
        "axs[0].set_title('Acurácia')\n",
        "axs[0].set_xlabel('Nº de Épocas')\n",
        "axs[0].set_ylabel('Acurácia')\n",
        "\n",
        "axs[1].plot(historico.history['loss'])\n",
        "axs[1].plot(historico.history['val_loss'])\n",
        "axs[1].set_title('Perca')\n",
        "axs[1].set_xlabel('Nº de Épocas')\n",
        "axs[1].set_ylabel('Perca')\n",
        "plt.show()"
      ]
    },
    {
      "cell_type": "code",
      "execution_count": 35,
      "metadata": {
        "colab": {
          "base_uri": "https://localhost:8080/"
        },
        "id": "T8xW3OuA50V2",
        "outputId": "22445b90-7ae7-4a83-efcd-977e67b80d8e"
      },
      "outputs": [
        {
          "name": "stdout",
          "output_type": "stream",
          "text": [
            "531/531 [==============================] - 4s 7ms/step - loss: 0.2460 - accuracy: 0.9002\n"
          ]
        },
        {
          "data": {
            "text/plain": [
              "0.9001883268356323"
            ]
          },
          "execution_count": 35,
          "metadata": {},
          "output_type": "execute_result"
        }
      ],
      "source": [
        "loss , acuracia = network.evaluate(imagens_val)\n",
        "\n",
        "acuracia"
      ]
    },
    {
      "cell_type": "code",
      "execution_count": 36,
      "metadata": {
        "colab": {
          "base_uri": "https://localhost:8080/"
        },
        "id": "isKbeixD866U",
        "outputId": "d1da2e02-fed9-4e0e-8d6b-cf7c680c7614"
      },
      "outputs": [
        {
          "name": "stdout",
          "output_type": "stream",
          "text": [
            "531/531 [==============================] - 2s 3ms/step\n"
          ]
        },
        {
          "data": {
            "text/plain": [
              "array([0, 0, 0, 0, 0, 0, 0, 0, 0, 0, 0, 1, 0, 1, 0, 0, 0, 1, 0, 0, 0, 0,\n",
              "       0, 0, 1, 0, 0, 0, 0, 1, 0, 0, 0, 0, 0, 0, 0, 0, 0, 0, 0, 1, 0, 0,\n",
              "       0, 1, 0, 0, 0, 1, 0, 0, 1, 0, 0, 1, 0, 1, 1, 0, 1, 1, 0, 1, 0, 0,\n",
              "       0, 0, 1, 0, 0, 0, 0, 0, 1, 0, 0, 0, 1, 0, 0, 0, 1, 1, 1, 0, 1, 0,\n",
              "       0, 0, 0, 0, 0, 0, 0, 0, 0, 0, 1, 0, 1, 1, 1, 0, 0, 0, 0, 0, 1, 0,\n",
              "       0, 0, 1, 0, 1, 0, 1, 0, 0, 0, 0, 0, 0, 0, 0, 0, 0, 1, 1, 0, 0, 1,\n",
              "       0, 0, 1, 1, 0, 0, 0, 0, 0, 0, 0, 0, 0, 0, 0, 0, 0, 0, 0, 0, 0, 1,\n",
              "       0, 0, 0, 0, 0, 1, 1, 1, 0, 0, 0, 0, 0, 0, 0, 1, 0, 0, 0, 0, 0, 0,\n",
              "       0, 0, 0, 0, 0, 0, 0, 1, 0, 0, 1, 0, 1, 0, 0, 0, 0, 0, 0, 0, 0, 0,\n",
              "       0, 0, 0, 1, 0, 0, 0, 0, 1, 1, 0, 1, 0, 0, 0, 1, 0, 0, 0, 0, 0, 0,\n",
              "       0, 0, 0, 0, 0, 1, 0, 0, 0, 0, 0, 0, 0, 0, 0, 0, 0, 0, 0, 1, 0, 0,\n",
              "       0, 0, 0, 1, 1, 1, 1, 1, 1, 1, 1, 1, 1, 1, 1, 1, 1, 1, 1, 1, 1, 1,\n",
              "       1, 1, 1, 1, 1, 1, 1, 1, 1, 1, 1, 1, 1, 1, 1, 1, 1, 1, 1, 1, 1, 1,\n",
              "       1, 1, 1, 1, 1, 1, 1, 1, 1, 1, 1, 1, 1, 1, 1, 1, 1, 1, 1, 1, 1, 1,\n",
              "       1, 1, 1, 1, 1, 1, 1, 1, 1, 1, 1, 1, 1, 1, 1, 1, 1, 1, 1, 1, 1, 1,\n",
              "       1, 1, 1, 1, 1, 1, 1, 1, 1, 1, 1, 1, 1, 1, 1, 1, 1, 1, 1, 1, 1, 1,\n",
              "       1, 1, 1, 1, 1, 1, 1, 1, 1, 1, 1, 1, 1, 1, 1, 1, 1, 1, 1, 1, 1, 1,\n",
              "       1, 1, 1, 1, 1, 1, 1, 0, 1, 1, 1, 1, 1, 1, 1, 1, 1, 1, 1, 1, 1, 1,\n",
              "       1, 1, 1, 1, 1, 1, 1, 1, 1, 1, 1, 1, 1, 1, 1, 1, 1, 1, 1, 1, 1, 1,\n",
              "       1, 1, 1, 1, 1, 1, 1, 1, 1, 1, 1, 1, 1, 1, 1, 1, 1, 1, 1, 1, 1, 1,\n",
              "       1, 1, 0, 1, 1, 1, 1, 1, 1, 1, 1, 1, 1, 1, 1, 1, 1, 1, 1, 1, 1, 1,\n",
              "       1, 1, 1, 1, 1, 1, 1, 1, 1, 1, 1, 1, 1, 1, 1, 1, 1, 1, 1, 1, 1, 1,\n",
              "       1, 1, 1, 1, 1, 1, 1, 1, 1, 1, 1, 1, 1, 1, 1, 0, 1, 1, 1, 1, 1, 1,\n",
              "       1, 1, 1, 1, 1, 1, 1, 1, 1, 1, 1, 1, 1, 1, 1, 1, 1, 1, 1, 1, 1, 1,\n",
              "       1, 1, 1])"
            ]
          },
          "execution_count": 36,
          "metadata": {},
          "output_type": "execute_result"
        }
      ],
      "source": [
        "previsoes = network.predict(imagens_val)\n",
        "previsoes = np.argmax(previsoes, axis=1)\n",
        "previsoes"
      ]
    },
    {
      "cell_type": "code",
      "execution_count": 37,
      "metadata": {
        "colab": {
          "base_uri": "https://localhost:8080/"
        },
        "id": "z4U1MIga9lVn",
        "outputId": "4c1b7e82-1181-4d3e-8538-c81aa2e5cebd"
      },
      "outputs": [
        {
          "data": {
            "text/plain": [
              "array([0, 0, 0, 0, 0, 0, 0, 0, 0, 0, 0, 0, 0, 0, 0, 0, 0, 0, 0, 0, 0, 0,\n",
              "       0, 0, 0, 0, 0, 0, 0, 0, 0, 0, 0, 0, 0, 0, 0, 0, 0, 0, 0, 0, 0, 0,\n",
              "       0, 0, 0, 0, 0, 0, 0, 0, 0, 0, 0, 0, 0, 0, 0, 0, 0, 0, 0, 0, 0, 0,\n",
              "       0, 0, 0, 0, 0, 0, 0, 0, 0, 0, 0, 0, 0, 0, 0, 0, 0, 0, 0, 0, 0, 0,\n",
              "       0, 0, 0, 0, 0, 0, 0, 0, 0, 0, 0, 0, 0, 0, 0, 0, 0, 0, 0, 0, 0, 0,\n",
              "       0, 0, 0, 0, 0, 0, 0, 0, 0, 0, 0, 0, 0, 0, 0, 0, 0, 0, 0, 0, 0, 0,\n",
              "       0, 0, 0, 0, 0, 0, 0, 0, 0, 0, 0, 0, 0, 0, 0, 0, 0, 0, 0, 0, 0, 0,\n",
              "       0, 0, 0, 0, 0, 0, 0, 0, 0, 0, 0, 0, 0, 0, 0, 0, 0, 0, 0, 0, 0, 0,\n",
              "       0, 0, 0, 0, 0, 0, 0, 0, 0, 0, 0, 0, 0, 0, 0, 0, 0, 0, 0, 0, 0, 0,\n",
              "       0, 0, 0, 0, 0, 0, 0, 0, 0, 0, 0, 0, 0, 0, 0, 0, 0, 0, 0, 0, 0, 0,\n",
              "       0, 0, 0, 0, 0, 0, 0, 0, 0, 0, 0, 0, 0, 0, 0, 0, 0, 0, 0, 0, 0, 0,\n",
              "       0, 0, 0, 1, 1, 1, 1, 1, 1, 1, 1, 1, 1, 1, 1, 1, 1, 1, 1, 1, 1, 1,\n",
              "       1, 1, 1, 1, 1, 1, 1, 1, 1, 1, 1, 1, 1, 1, 1, 1, 1, 1, 1, 1, 1, 1,\n",
              "       1, 1, 1, 1, 1, 1, 1, 1, 1, 1, 1, 1, 1, 1, 1, 1, 1, 1, 1, 1, 1, 1,\n",
              "       1, 1, 1, 1, 1, 1, 1, 1, 1, 1, 1, 1, 1, 1, 1, 1, 1, 1, 1, 1, 1, 1,\n",
              "       1, 1, 1, 1, 1, 1, 1, 1, 1, 1, 1, 1, 1, 1, 1, 1, 1, 1, 1, 1, 1, 1,\n",
              "       1, 1, 1, 1, 1, 1, 1, 1, 1, 1, 1, 1, 1, 1, 1, 1, 1, 1, 1, 1, 1, 1,\n",
              "       1, 1, 1, 1, 1, 1, 1, 1, 1, 1, 1, 1, 1, 1, 1, 1, 1, 1, 1, 1, 1, 1,\n",
              "       1, 1, 1, 1, 1, 1, 1, 1, 1, 1, 1, 1, 1, 1, 1, 1, 1, 1, 1, 1, 1, 1,\n",
              "       1, 1, 1, 1, 1, 1, 1, 1, 1, 1, 1, 1, 1, 1, 1, 1, 1, 1, 1, 1, 1, 1,\n",
              "       1, 1, 1, 1, 1, 1, 1, 1, 1, 1, 1, 1, 1, 1, 1, 1, 1, 1, 1, 1, 1, 1,\n",
              "       1, 1, 1, 1, 1, 1, 1, 1, 1, 1, 1, 1, 1, 1, 1, 1, 1, 1, 1, 1, 1, 1,\n",
              "       1, 1, 1, 1, 1, 1, 1, 1, 1, 1, 1, 1, 1, 1, 1, 1, 1, 1, 1, 1, 1, 1,\n",
              "       1, 1, 1, 1, 1, 1, 1, 1, 1, 1, 1, 1, 1, 1, 1, 1, 1, 1, 1, 1, 1, 1,\n",
              "       1, 1, 1], dtype=int32)"
            ]
          },
          "execution_count": 37,
          "metadata": {},
          "output_type": "execute_result"
        }
      ],
      "source": [
        "imagens_val.classes"
      ]
    },
    {
      "cell_type": "code",
      "execution_count": 38,
      "metadata": {
        "colab": {
          "base_uri": "https://localhost:8080/",
          "height": 614
        },
        "id": "raj4Mz77-VnX",
        "outputId": "4fb215f6-b13a-4b92-d659-7c32f0bff1cb"
      },
      "outputs": [
        {
          "name": "stdout",
          "output_type": "stream",
          "text": [
            "              precision    recall  f1-score   support\n",
            "\n",
            "           0       0.98      0.80      0.88       245\n",
            "           1       0.85      0.99      0.91       286\n",
            "\n",
            "    accuracy                           0.90       531\n",
            "   macro avg       0.92      0.89      0.90       531\n",
            "weighted avg       0.91      0.90      0.90       531\n",
            "\n"
          ]
        },
        {
          "data": {
            "image/png": "[encoded data removed]",
            "text/plain": [
              "<Figure size 640x480 with 2 Axes>"
            ]
          },
          "metadata": {},
          "output_type": "display_data"
        }
      ],
      "source": [
        "print(classification_report(imagens_val.classes, previsoes))\n",
        "ConfusionMatrixDisplay.from_predictions(imagens_val.classes, previsoes);"
      ]
    },
    {
      "cell_type": "markdown",
      "metadata": {
        "id": "sbrjSw-6_0Wx"
      },
      "source": [
        "### <font color='yellowgreen'> **Salvando Modelo**"
      ]
    },
    {
      "cell_type": "code",
      "execution_count": 39,
      "metadata": {
        "id": "TOTpace3_3td"
      },
      "outputs": [],
      "source": [
        "modelo_json = network.to_json()\n",
        "\n",
        "with open('classificador_0.90.json', 'w') as f:\n",
        "    f.write(modelo_json)"
      ]
    },
    {
      "cell_type": "code",
      "execution_count": 40,
      "metadata": {
        "id": "DGJBHm7G_8Tm"
      },
      "outputs": [],
      "source": [
        "network.save_weights('pesos_classificador_0.90.h5')"
      ]
    },
    {
      "cell_type": "markdown",
      "metadata": {
        "id": "C00Vi4xZBCbi"
      },
      "source": [
        "________________________________________________________________________________________________________________________"
      ]
    },
    {
      "cell_type": "markdown",
      "metadata": {
        "id": "7MRudBOHBJxk"
      },
      "source": [
        "## <font color='yellowgreen'> **Transfer Learning <font color='red'>(loss: 1.4971 - accuracy: 0.8475)**"
      ]
    },
    {
      "cell_type": "markdown",
      "metadata": {
        "id": "t_9PwGmoNwvq"
      },
      "source": [
        "### <font color='yellowgreen'> **Estrutura**"
      ]
    },
    {
      "cell_type": "code",
      "execution_count": 44,
      "metadata": {
        "colab": {
          "base_uri": "https://localhost:8080/"
        },
        "id": "8JswyH9HBU6f",
        "outputId": "b3394e22-92dd-4f25-c1b1-4aec954b16d3"
      },
      "outputs": [
        {
          "name": "stderr",
          "output_type": "stream",
          "text": [
            "Exception ignored in: <function _xla_gc_callback at 0x7ab5d2c52b90>\n",
            "Traceback (most recent call last):\n",
            "  File \"/usr/local/lib/python3.10/dist-packages/jax/_src/lib/__init__.py\", line 101, in _xla_gc_callback\n",
            "    def _xla_gc_callback(*args):\n",
            "KeyboardInterrupt: \n"
          ]
        },
        {
          "name": "stdout",
          "output_type": "stream",
          "text": [
            "Model: \"xception\"\n",
            "__________________________________________________________________________________________________\n",
            " Layer (type)                Output Shape                 Param #   Connected to                  \n",
            "==================================================================================================\n",
            " input_5 (InputLayer)        [(None, 224, 224, 3)]        0         []                            \n",
            "                                                                                                  \n",
            " block1_conv1 (Conv2D)       (None, 111, 111, 32)         864       ['input_5[0][0]']             \n",
            "                                                                                                  \n",
            " block1_conv1_bn (BatchNorm  (None, 111, 111, 32)         128       ['block1_conv1[0][0]']        \n",
            " alization)                                                                                       \n",
            "                                                                                                  \n",
            " block1_conv1_act (Activati  (None, 111, 111, 32)         0         ['block1_conv1_bn[0][0]']     \n",
            " on)                                                                                              \n",
            "                                                                                                  \n",
            " block1_conv2 (Conv2D)       (None, 109, 109, 64)         18432     ['block1_conv1_act[0][0]']    \n",
            "                                                                                                  \n",
            " block1_conv2_bn (BatchNorm  (None, 109, 109, 64)         256       ['block1_conv2[0][0]']        \n",
            " alization)                                                                                       \n",
            "                                                                                                  \n",
            " block1_conv2_act (Activati  (None, 109, 109, 64)         0         ['block1_conv2_bn[0][0]']     \n",
            " on)                                                                                              \n",
            "                                                                                                  \n",
            " block2_sepconv1 (Separable  (None, 109, 109, 128)        8768      ['block1_conv2_act[0][0]']    \n",
            " Conv2D)                                                                                          \n",
            "                                                                                                  \n",
            " block2_sepconv1_bn (BatchN  (None, 109, 109, 128)        512       ['block2_sepconv1[0][0]']     \n",
            " ormalization)                                                                                    \n",
            "                                                                                                  \n",
            " block2_sepconv2_act (Activ  (None, 109, 109, 128)        0         ['block2_sepconv1_bn[0][0]']  \n",
            " ation)                                                                                           \n",
            "                                                                                                  \n",
            " block2_sepconv2 (Separable  (None, 109, 109, 128)        17536     ['block2_sepconv2_act[0][0]'] \n",
            " Conv2D)                                                                                          \n",
            "                                                                                                  \n",
            " block2_sepconv2_bn (BatchN  (None, 109, 109, 128)        512       ['block2_sepconv2[0][0]']     \n",
            " ormalization)                                                                                    \n",
            "                                                                                                  \n",
            " conv2d_16 (Conv2D)          (None, 55, 55, 128)          8192      ['block1_conv2_act[0][0]']    \n",
            "                                                                                                  \n",
            " block2_pool (MaxPooling2D)  (None, 55, 55, 128)          0         ['block2_sepconv2_bn[0][0]']  \n",
            "                                                                                                  \n",
            " batch_normalization_4 (Bat  (None, 55, 55, 128)          512       ['conv2d_16[0][0]']           \n",
            " chNormalization)                                                                                 \n",
            "                                                                                                  \n",
            " add_12 (Add)                (None, 55, 55, 128)          0         ['block2_pool[0][0]',         \n",
            "                                                                     'batch_normalization_4[0][0]'\n",
            "                                                                    ]                             \n",
            "                                                                                                  \n",
            " block3_sepconv1_act (Activ  (None, 55, 55, 128)          0         ['add_12[0][0]']              \n",
            " ation)                                                                                           \n",
            "                                                                                                  \n",
            " block3_sepconv1 (Separable  (None, 55, 55, 256)          33920     ['block3_sepconv1_act[0][0]'] \n",
            " Conv2D)                                                                                          \n",
            "                                                                                                  \n",
            " block3_sepconv1_bn (BatchN  (None, 55, 55, 256)          1024      ['block3_sepconv1[0][0]']     \n",
            " ormalization)                                                                                    \n",
            "                                                                                                  \n",
            " block3_sepconv2_act (Activ  (None, 55, 55, 256)          0         ['block3_sepconv1_bn[0][0]']  \n",
            " ation)                                                                                           \n",
            "                                                                                                  \n",
            " block3_sepconv2 (Separable  (None, 55, 55, 256)          67840     ['block3_sepconv2_act[0][0]'] \n",
            " Conv2D)                                                                                          \n",
            "                                                                                                  \n",
            " block3_sepconv2_bn (BatchN  (None, 55, 55, 256)          1024      ['block3_sepconv2[0][0]']     \n",
            " ormalization)                                                                                    \n",
            "                                                                                                  \n",
            " conv2d_17 (Conv2D)          (None, 28, 28, 256)          32768     ['add_12[0][0]']              \n",
            "                                                                                                  \n",
            " block3_pool (MaxPooling2D)  (None, 28, 28, 256)          0         ['block3_sepconv2_bn[0][0]']  \n",
            "                                                                                                  \n",
            " batch_normalization_5 (Bat  (None, 28, 28, 256)          1024      ['conv2d_17[0][0]']           \n",
            " chNormalization)                                                                                 \n",
            "                                                                                                  \n",
            " add_13 (Add)                (None, 28, 28, 256)          0         ['block3_pool[0][0]',         \n",
            "                                                                     'batch_normalization_5[0][0]'\n",
            "                                                                    ]                             \n",
            "                                                                                                  \n",
            " block4_sepconv1_act (Activ  (None, 28, 28, 256)          0         ['add_13[0][0]']              \n",
            " ation)                                                                                           \n",
            "                                                                                                  \n",
            " block4_sepconv1 (Separable  (None, 28, 28, 728)          188672    ['block4_sepconv1_act[0][0]'] \n",
            " Conv2D)                                                                                          \n",
            "                                                                                                  \n",
            " block4_sepconv1_bn (BatchN  (None, 28, 28, 728)          2912      ['block4_sepconv1[0][0]']     \n",
            " ormalization)                                                                                    \n",
            "                                                                                                  \n",
            " block4_sepconv2_act (Activ  (None, 28, 28, 728)          0         ['block4_sepconv1_bn[0][0]']  \n",
            " ation)                                                                                           \n",
            "                                                                                                  \n",
            " block4_sepconv2 (Separable  (None, 28, 28, 728)          536536    ['block4_sepconv2_act[0][0]'] \n",
            " Conv2D)                                                                                          \n",
            "                                                                                                  \n",
            " block4_sepconv2_bn (BatchN  (None, 28, 28, 728)          2912      ['block4_sepconv2[0][0]']     \n",
            " ormalization)                                                                                    \n",
            "                                                                                                  \n",
            " conv2d_18 (Conv2D)          (None, 14, 14, 728)          186368    ['add_13[0][0]']              \n",
            "                                                                                                  \n",
            " block4_pool (MaxPooling2D)  (None, 14, 14, 728)          0         ['block4_sepconv2_bn[0][0]']  \n",
            "                                                                                                  \n",
            " batch_normalization_6 (Bat  (None, 14, 14, 728)          2912      ['conv2d_18[0][0]']           \n",
            " chNormalization)                                                                                 \n",
            "                                                                                                  \n",
            " add_14 (Add)                (None, 14, 14, 728)          0         ['block4_pool[0][0]',         \n",
            "                                                                     'batch_normalization_6[0][0]'\n",
            "                                                                    ]                             \n",
            "                                                                                                  \n",
            " block5_sepconv1_act (Activ  (None, 14, 14, 728)          0         ['add_14[0][0]']              \n",
            " ation)                                                                                           \n",
            "                                                                                                  \n",
            " block5_sepconv1 (Separable  (None, 14, 14, 728)          536536    ['block5_sepconv1_act[0][0]'] \n",
            " Conv2D)                                                                                          \n",
            "                                                                                                  \n",
            " block5_sepconv1_bn (BatchN  (None, 14, 14, 728)          2912      ['block5_sepconv1[0][0]']     \n",
            " ormalization)                                                                                    \n",
            "                                                                                                  \n",
            " block5_sepconv2_act (Activ  (None, 14, 14, 728)          0         ['block5_sepconv1_bn[0][0]']  \n",
            " ation)                                                                                           \n",
            "                                                                                                  \n",
            " block5_sepconv2 (Separable  (None, 14, 14, 728)          536536    ['block5_sepconv2_act[0][0]'] \n",
            " Conv2D)                                                                                          \n",
            "                                                                                                  \n",
            " block5_sepconv2_bn (BatchN  (None, 14, 14, 728)          2912      ['block5_sepconv2[0][0]']     \n",
            " ormalization)                                                                                    \n",
            "                                                                                                  \n",
            " block5_sepconv3_act (Activ  (None, 14, 14, 728)          0         ['block5_sepconv2_bn[0][0]']  \n",
            " ation)                                                                                           \n",
            "                                                                                                  \n",
            " block5_sepconv3 (Separable  (None, 14, 14, 728)          536536    ['block5_sepconv3_act[0][0]'] \n",
            " Conv2D)                                                                                          \n",
            "                                                                                                  \n",
            " block5_sepconv3_bn (BatchN  (None, 14, 14, 728)          2912      ['block5_sepconv3[0][0]']     \n",
            " ormalization)                                                                                    \n",
            "                                                                                                  \n",
            " add_15 (Add)                (None, 14, 14, 728)          0         ['block5_sepconv3_bn[0][0]',  \n",
            "                                                                     'add_14[0][0]']              \n",
            "                                                                                                  \n",
            " block6_sepconv1_act (Activ  (None, 14, 14, 728)          0         ['add_15[0][0]']              \n",
            " ation)                                                                                           \n",
            "                                                                                                  \n",
            " block6_sepconv1 (Separable  (None, 14, 14, 728)          536536    ['block6_sepconv1_act[0][0]'] \n",
            " Conv2D)                                                                                          \n",
            "                                                                                                  \n",
            " block6_sepconv1_bn (BatchN  (None, 14, 14, 728)          2912      ['block6_sepconv1[0][0]']     \n",
            " ormalization)                                                                                    \n",
            "                                                                                                  \n",
            " block6_sepconv2_act (Activ  (None, 14, 14, 728)          0         ['block6_sepconv1_bn[0][0]']  \n",
            " ation)                                                                                           \n",
            "                                                                                                  \n",
            " block6_sepconv2 (Separable  (None, 14, 14, 728)          536536    ['block6_sepconv2_act[0][0]'] \n",
            " Conv2D)                                                                                          \n",
            "                                                                                                  \n",
            " block6_sepconv2_bn (BatchN  (None, 14, 14, 728)          2912      ['block6_sepconv2[0][0]']     \n",
            " ormalization)                                                                                    \n",
            "                                                                                                  \n",
            " block6_sepconv3_act (Activ  (None, 14, 14, 728)          0         ['block6_sepconv2_bn[0][0]']  \n",
            " ation)                                                                                           \n",
            "                                                                                                  \n",
            " block6_sepconv3 (Separable  (None, 14, 14, 728)          536536    ['block6_sepconv3_act[0][0]'] \n",
            " Conv2D)                                                                                          \n",
            "                                                                                                  \n",
            " block6_sepconv3_bn (BatchN  (None, 14, 14, 728)          2912      ['block6_sepconv3[0][0]']     \n",
            " ormalization)                                                                                    \n",
            "                                                                                                  \n",
            " add_16 (Add)                (None, 14, 14, 728)          0         ['block6_sepconv3_bn[0][0]',  \n",
            "                                                                     'add_15[0][0]']              \n",
            "                                                                                                  \n",
            " block7_sepconv1_act (Activ  (None, 14, 14, 728)          0         ['add_16[0][0]']              \n",
            " ation)                                                                                           \n",
            "                                                                                                  \n",
            " block7_sepconv1 (Separable  (None, 14, 14, 728)          536536    ['block7_sepconv1_act[0][0]'] \n",
            " Conv2D)                                                                                          \n",
            "                                                                                                  \n",
            " block7_sepconv1_bn (BatchN  (None, 14, 14, 728)          2912      ['block7_sepconv1[0][0]']     \n",
            " ormalization)                                                                                    \n",
            "                                                                                                  \n",
            " block7_sepconv2_act (Activ  (None, 14, 14, 728)          0         ['block7_sepconv1_bn[0][0]']  \n",
            " ation)                                                                                           \n",
            "                                                                                                  \n",
            " block7_sepconv2 (Separable  (None, 14, 14, 728)          536536    ['block7_sepconv2_act[0][0]'] \n",
            " Conv2D)                                                                                          \n",
            "                                                                                                  \n",
            " block7_sepconv2_bn (BatchN  (None, 14, 14, 728)          2912      ['block7_sepconv2[0][0]']     \n",
            " ormalization)                                                                                    \n",
            "                                                                                                  \n",
            " block7_sepconv3_act (Activ  (None, 14, 14, 728)          0         ['block7_sepconv2_bn[0][0]']  \n",
            " ation)                                                                                           \n",
            "                                                                                                  \n",
            " block7_sepconv3 (Separable  (None, 14, 14, 728)          536536    ['block7_sepconv3_act[0][0]'] \n",
            " Conv2D)                                                                                          \n",
            "                                                                                                  \n",
            " block7_sepconv3_bn (BatchN  (None, 14, 14, 728)          2912      ['block7_sepconv3[0][0]']     \n",
            " ormalization)                                                                                    \n",
            "                                                                                                  \n",
            " add_17 (Add)                (None, 14, 14, 728)          0         ['block7_sepconv3_bn[0][0]',  \n",
            "                                                                     'add_16[0][0]']              \n",
            "                                                                                                  \n",
            " block8_sepconv1_act (Activ  (None, 14, 14, 728)          0         ['add_17[0][0]']              \n",
            " ation)                                                                                           \n",
            "                                                                                                  \n",
            " block8_sepconv1 (Separable  (None, 14, 14, 728)          536536    ['block8_sepconv1_act[0][0]'] \n",
            " Conv2D)                                                                                          \n",
            "                                                                                                  \n",
            " block8_sepconv1_bn (BatchN  (None, 14, 14, 728)          2912      ['block8_sepconv1[0][0]']     \n",
            " ormalization)                                                                                    \n",
            "                                                                                                  \n",
            " block8_sepconv2_act (Activ  (None, 14, 14, 728)          0         ['block8_sepconv1_bn[0][0]']  \n",
            " ation)                                                                                           \n",
            "                                                                                                  \n",
            " block8_sepconv2 (Separable  (None, 14, 14, 728)          536536    ['block8_sepconv2_act[0][0]'] \n",
            " Conv2D)                                                                                          \n",
            "                                                                                                  \n",
            " block8_sepconv2_bn (BatchN  (None, 14, 14, 728)          2912      ['block8_sepconv2[0][0]']     \n",
            " ormalization)                                                                                    \n",
            "                                                                                                  \n",
            " block8_sepconv3_act (Activ  (None, 14, 14, 728)          0         ['block8_sepconv2_bn[0][0]']  \n",
            " ation)                                                                                           \n",
            "                                                                                                  \n",
            " block8_sepconv3 (Separable  (None, 14, 14, 728)          536536    ['block8_sepconv3_act[0][0]'] \n",
            " Conv2D)                                                                                          \n",
            "                                                                                                  \n",
            " block8_sepconv3_bn (BatchN  (None, 14, 14, 728)          2912      ['block8_sepconv3[0][0]']     \n",
            " ormalization)                                                                                    \n",
            "                                                                                                  \n",
            " add_18 (Add)                (None, 14, 14, 728)          0         ['block8_sepconv3_bn[0][0]',  \n",
            "                                                                     'add_17[0][0]']              \n",
            "                                                                                                  \n",
            " block9_sepconv1_act (Activ  (None, 14, 14, 728)          0         ['add_18[0][0]']              \n",
            " ation)                                                                                           \n",
            "                                                                                                  \n",
            " block9_sepconv1 (Separable  (None, 14, 14, 728)          536536    ['block9_sepconv1_act[0][0]'] \n",
            " Conv2D)                                                                                          \n",
            "                                                                                                  \n",
            " block9_sepconv1_bn (BatchN  (None, 14, 14, 728)          2912      ['block9_sepconv1[0][0]']     \n",
            " ormalization)                                                                                    \n",
            "                                                                                                  \n",
            " block9_sepconv2_act (Activ  (None, 14, 14, 728)          0         ['block9_sepconv1_bn[0][0]']  \n",
            " ation)                                                                                           \n",
            "                                                                                                  \n",
            " block9_sepconv2 (Separable  (None, 14, 14, 728)          536536    ['block9_sepconv2_act[0][0]'] \n",
            " Conv2D)                                                                                          \n",
            "                                                                                                  \n",
            " block9_sepconv2_bn (BatchN  (None, 14, 14, 728)          2912      ['block9_sepconv2[0][0]']     \n",
            " ormalization)                                                                                    \n",
            "                                                                                                  \n",
            " block9_sepconv3_act (Activ  (None, 14, 14, 728)          0         ['block9_sepconv2_bn[0][0]']  \n",
            " ation)                                                                                           \n",
            "                                                                                                  \n",
            " block9_sepconv3 (Separable  (None, 14, 14, 728)          536536    ['block9_sepconv3_act[0][0]'] \n",
            " Conv2D)                                                                                          \n",
            "                                                                                                  \n",
            " block9_sepconv3_bn (BatchN  (None, 14, 14, 728)          2912      ['block9_sepconv3[0][0]']     \n",
            " ormalization)                                                                                    \n",
            "                                                                                                  \n",
            " add_19 (Add)                (None, 14, 14, 728)          0         ['block9_sepconv3_bn[0][0]',  \n",
            "                                                                     'add_18[0][0]']              \n",
            "                                                                                                  \n",
            " block10_sepconv1_act (Acti  (None, 14, 14, 728)          0         ['add_19[0][0]']              \n",
            " vation)                                                                                          \n",
            "                                                                                                  \n",
            " block10_sepconv1 (Separabl  (None, 14, 14, 728)          536536    ['block10_sepconv1_act[0][0]']\n",
            " eConv2D)                                                                                         \n",
            "                                                                                                  \n",
            " block10_sepconv1_bn (Batch  (None, 14, 14, 728)          2912      ['block10_sepconv1[0][0]']    \n",
            " Normalization)                                                                                   \n",
            "                                                                                                  \n",
            " block10_sepconv2_act (Acti  (None, 14, 14, 728)          0         ['block10_sepconv1_bn[0][0]'] \n",
            " vation)                                                                                          \n",
            "                                                                                                  \n",
            " block10_sepconv2 (Separabl  (None, 14, 14, 728)          536536    ['block10_sepconv2_act[0][0]']\n",
            " eConv2D)                                                                                         \n",
            "                                                                                                  \n",
            " block10_sepconv2_bn (Batch  (None, 14, 14, 728)          2912      ['block10_sepconv2[0][0]']    \n",
            " Normalization)                                                                                   \n",
            "                                                                                                  \n",
            " block10_sepconv3_act (Acti  (None, 14, 14, 728)          0         ['block10_sepconv2_bn[0][0]'] \n",
            " vation)                                                                                          \n",
            "                                                                                                  \n",
            " block10_sepconv3 (Separabl  (None, 14, 14, 728)          536536    ['block10_sepconv3_act[0][0]']\n",
            " eConv2D)                                                                                         \n",
            "                                                                                                  \n",
            " block10_sepconv3_bn (Batch  (None, 14, 14, 728)          2912      ['block10_sepconv3[0][0]']    \n",
            " Normalization)                                                                                   \n",
            "                                                                                                  \n",
            " add_20 (Add)                (None, 14, 14, 728)          0         ['block10_sepconv3_bn[0][0]', \n",
            "                                                                     'add_19[0][0]']              \n",
            "                                                                                                  \n",
            " block11_sepconv1_act (Acti  (None, 14, 14, 728)          0         ['add_20[0][0]']              \n",
            " vation)                                                                                          \n",
            "                                                                                                  \n",
            " block11_sepconv1 (Separabl  (None, 14, 14, 728)          536536    ['block11_sepconv1_act[0][0]']\n",
            " eConv2D)                                                                                         \n",
            "                                                                                                  \n",
            " block11_sepconv1_bn (Batch  (None, 14, 14, 728)          2912      ['block11_sepconv1[0][0]']    \n",
            " Normalization)                                                                                   \n",
            "                                                                                                  \n",
            " block11_sepconv2_act (Acti  (None, 14, 14, 728)          0         ['block11_sepconv1_bn[0][0]'] \n",
            " vation)                                                                                          \n",
            "                                                                                                  \n",
            " block11_sepconv2 (Separabl  (None, 14, 14, 728)          536536    ['block11_sepconv2_act[0][0]']\n",
            " eConv2D)                                                                                         \n",
            "                                                                                                  \n",
            " block11_sepconv2_bn (Batch  (None, 14, 14, 728)          2912      ['block11_sepconv2[0][0]']    \n",
            " Normalization)                                                                                   \n",
            "                                                                                                  \n",
            " block11_sepconv3_act (Acti  (None, 14, 14, 728)          0         ['block11_sepconv2_bn[0][0]'] \n",
            " vation)                                                                                          \n",
            "                                                                                                  \n",
            " block11_sepconv3 (Separabl  (None, 14, 14, 728)          536536    ['block11_sepconv3_act[0][0]']\n",
            " eConv2D)                                                                                         \n",
            "                                                                                                  \n",
            " block11_sepconv3_bn (Batch  (None, 14, 14, 728)          2912      ['block11_sepconv3[0][0]']    \n",
            " Normalization)                                                                                   \n",
            "                                                                                                  \n",
            " add_21 (Add)                (None, 14, 14, 728)          0         ['block11_sepconv3_bn[0][0]', \n",
            "                                                                     'add_20[0][0]']              \n",
            "                                                                                                  \n",
            " block12_sepconv1_act (Acti  (None, 14, 14, 728)          0         ['add_21[0][0]']              \n",
            " vation)                                                                                          \n",
            "                                                                                                  \n",
            " block12_sepconv1 (Separabl  (None, 14, 14, 728)          536536    ['block12_sepconv1_act[0][0]']\n",
            " eConv2D)                                                                                         \n",
            "                                                                                                  \n",
            " block12_sepconv1_bn (Batch  (None, 14, 14, 728)          2912      ['block12_sepconv1[0][0]']    \n",
            " Normalization)                                                                                   \n",
            "                                                                                                  \n",
            " block12_sepconv2_act (Acti  (None, 14, 14, 728)          0         ['block12_sepconv1_bn[0][0]'] \n",
            " vation)                                                                                          \n",
            "                                                                                                  \n",
            " block12_sepconv2 (Separabl  (None, 14, 14, 728)          536536    ['block12_sepconv2_act[0][0]']\n",
            " eConv2D)                                                                                         \n",
            "                                                                                                  \n",
            " block12_sepconv2_bn (Batch  (None, 14, 14, 728)          2912      ['block12_sepconv2[0][0]']    \n",
            " Normalization)                                                                                   \n",
            "                                                                                                  \n",
            " block12_sepconv3_act (Acti  (None, 14, 14, 728)          0         ['block12_sepconv2_bn[0][0]'] \n",
            " vation)                                                                                          \n",
            "                                                                                                  \n",
            " block12_sepconv3 (Separabl  (None, 14, 14, 728)          536536    ['block12_sepconv3_act[0][0]']\n",
            " eConv2D)                                                                                         \n",
            "                                                                                                  \n",
            " block12_sepconv3_bn (Batch  (None, 14, 14, 728)          2912      ['block12_sepconv3[0][0]']    \n",
            " Normalization)                                                                                   \n",
            "                                                                                                  \n",
            " add_22 (Add)                (None, 14, 14, 728)          0         ['block12_sepconv3_bn[0][0]', \n",
            "                                                                     'add_21[0][0]']              \n",
            "                                                                                                  \n",
            " block13_sepconv1_act (Acti  (None, 14, 14, 728)          0         ['add_22[0][0]']              \n",
            " vation)                                                                                          \n",
            "                                                                                                  \n",
            " block13_sepconv1 (Separabl  (None, 14, 14, 728)          536536    ['block13_sepconv1_act[0][0]']\n",
            " eConv2D)                                                                                         \n",
            "                                                                                                  \n",
            " block13_sepconv1_bn (Batch  (None, 14, 14, 728)          2912      ['block13_sepconv1[0][0]']    \n",
            " Normalization)                                                                                   \n",
            "                                                                                                  \n",
            " block13_sepconv2_act (Acti  (None, 14, 14, 728)          0         ['block13_sepconv1_bn[0][0]'] \n",
            " vation)                                                                                          \n",
            "                                                                                                  \n",
            " block13_sepconv2 (Separabl  (None, 14, 14, 1024)         752024    ['block13_sepconv2_act[0][0]']\n",
            " eConv2D)                                                                                         \n",
            "                                                                                                  \n",
            " block13_sepconv2_bn (Batch  (None, 14, 14, 1024)         4096      ['block13_sepconv2[0][0]']    \n",
            " Normalization)                                                                                   \n",
            "                                                                                                  \n",
            " conv2d_19 (Conv2D)          (None, 7, 7, 1024)           745472    ['add_22[0][0]']              \n",
            "                                                                                                  \n",
            " block13_pool (MaxPooling2D  (None, 7, 7, 1024)           0         ['block13_sepconv2_bn[0][0]'] \n",
            " )                                                                                                \n",
            "                                                                                                  \n",
            " batch_normalization_7 (Bat  (None, 7, 7, 1024)           4096      ['conv2d_19[0][0]']           \n",
            " chNormalization)                                                                                 \n",
            "                                                                                                  \n",
            " add_23 (Add)                (None, 7, 7, 1024)           0         ['block13_pool[0][0]',        \n",
            "                                                                     'batch_normalization_7[0][0]'\n",
            "                                                                    ]                             \n",
            "                                                                                                  \n",
            " block14_sepconv1 (Separabl  (None, 7, 7, 1536)           1582080   ['add_23[0][0]']              \n",
            " eConv2D)                                                                                         \n",
            "                                                                                                  \n",
            " block14_sepconv1_bn (Batch  (None, 7, 7, 1536)           6144      ['block14_sepconv1[0][0]']    \n",
            " Normalization)                                                                                   \n",
            "                                                                                                  \n",
            " block14_sepconv1_act (Acti  (None, 7, 7, 1536)           0         ['block14_sepconv1_bn[0][0]'] \n",
            " vation)                                                                                          \n",
            "                                                                                                  \n",
            " block14_sepconv2 (Separabl  (None, 7, 7, 2048)           3159552   ['block14_sepconv1_act[0][0]']\n",
            " eConv2D)                                                                                         \n",
            "                                                                                                  \n",
            " block14_sepconv2_bn (Batch  (None, 7, 7, 2048)           8192      ['block14_sepconv2[0][0]']    \n",
            " Normalization)                                                                                   \n",
            "                                                                                                  \n",
            " block14_sepconv2_act (Acti  (None, 7, 7, 2048)           0         ['block14_sepconv2_bn[0][0]'] \n",
            " vation)                                                                                          \n",
            "                                                                                                  \n",
            "==================================================================================================\n",
            "Total params: 20861480 (79.58 MB)\n",
            "Trainable params: 20806952 (79.37 MB)\n",
            "Non-trainable params: 54528 (213.00 KB)\n",
            "__________________________________________________________________________________________________\n"
          ]
        }
      ],
      "source": [
        "resnet = Xception(include_top=False, weights='imagenet', input_shape=(224, 224, 3))\n",
        "resnet.summary()"
      ]
    },
    {
      "cell_type": "code",
      "execution_count": 45,
      "metadata": {
        "id": "JWoU9MwJG0og"
      },
      "outputs": [],
      "source": [
        "camada_densa = resnet.output\n",
        "camada_densa = GlobalAveragePooling2D()(camada_densa)\n",
        "camada_densa = Dense(units= 1025, activation='relu')(camada_densa)\n",
        "camada_densa = Dropout(0.2)(camada_densa)\n",
        "camada_densa = Dense(units= 1025, activation='relu')(camada_densa)\n",
        "camada_densa = Dropout(0.2)(camada_densa)\n",
        "camada_densa = Dense(units= 1025, activation='relu')(camada_densa)\n",
        "camada_densa = Dropout(0.2)(camada_densa)\n",
        "camada_densa_output = Dense(units= 2, activation='softmax')(camada_densa)"
      ]
    },
    {
      "cell_type": "code",
      "execution_count": 46,
      "metadata": {
        "colab": {
          "base_uri": "https://localhost:8080/"
        },
        "id": "QbtQDhsGIFNw",
        "outputId": "9accef7a-d537-45c9-8786-75ae5313f09b"
      },
      "outputs": [
        {
          "name": "stdout",
          "output_type": "stream",
          "text": [
            "Model: \"model\"\n",
            "__________________________________________________________________________________________________\n",
            " Layer (type)                Output Shape                 Param #   Connected to                  \n",
            "==================================================================================================\n",
            " input_5 (InputLayer)        [(None, 224, 224, 3)]        0         []                            \n",
            "                                                                                                  \n",
            " block1_conv1 (Conv2D)       (None, 111, 111, 32)         864       ['input_5[0][0]']             \n",
            "                                                                                                  \n",
            " block1_conv1_bn (BatchNorm  (None, 111, 111, 32)         128       ['block1_conv1[0][0]']        \n",
            " alization)                                                                                       \n",
            "                                                                                                  \n",
            " block1_conv1_act (Activati  (None, 111, 111, 32)         0         ['block1_conv1_bn[0][0]']     \n",
            " on)                                                                                              \n",
            "                                                                                                  \n",
            " block1_conv2 (Conv2D)       (None, 109, 109, 64)         18432     ['block1_conv1_act[0][0]']    \n",
            "                                                                                                  \n",
            " block1_conv2_bn (BatchNorm  (None, 109, 109, 64)         256       ['block1_conv2[0][0]']        \n",
            " alization)                                                                                       \n",
            "                                                                                                  \n",
            " block1_conv2_act (Activati  (None, 109, 109, 64)         0         ['block1_conv2_bn[0][0]']     \n",
            " on)                                                                                              \n",
            "                                                                                                  \n",
            " block2_sepconv1 (Separable  (None, 109, 109, 128)        8768      ['block1_conv2_act[0][0]']    \n",
            " Conv2D)                                                                                          \n",
            "                                                                                                  \n",
            " block2_sepconv1_bn (BatchN  (None, 109, 109, 128)        512       ['block2_sepconv1[0][0]']     \n",
            " ormalization)                                                                                    \n",
            "                                                                                                  \n",
            " block2_sepconv2_act (Activ  (None, 109, 109, 128)        0         ['block2_sepconv1_bn[0][0]']  \n",
            " ation)                                                                                           \n",
            "                                                                                                  \n",
            " block2_sepconv2 (Separable  (None, 109, 109, 128)        17536     ['block2_sepconv2_act[0][0]'] \n",
            " Conv2D)                                                                                          \n",
            "                                                                                                  \n",
            " block2_sepconv2_bn (BatchN  (None, 109, 109, 128)        512       ['block2_sepconv2[0][0]']     \n",
            " ormalization)                                                                                    \n",
            "                                                                                                  \n",
            " conv2d_16 (Conv2D)          (None, 55, 55, 128)          8192      ['block1_conv2_act[0][0]']    \n",
            "                                                                                                  \n",
            " block2_pool (MaxPooling2D)  (None, 55, 55, 128)          0         ['block2_sepconv2_bn[0][0]']  \n",
            "                                                                                                  \n",
            " batch_normalization_4 (Bat  (None, 55, 55, 128)          512       ['conv2d_16[0][0]']           \n",
            " chNormalization)                                                                                 \n",
            "                                                                                                  \n",
            " add_12 (Add)                (None, 55, 55, 128)          0         ['block2_pool[0][0]',         \n",
            "                                                                     'batch_normalization_4[0][0]'\n",
            "                                                                    ]                             \n",
            "                                                                                                  \n",
            " block3_sepconv1_act (Activ  (None, 55, 55, 128)          0         ['add_12[0][0]']              \n",
            " ation)                                                                                           \n",
            "                                                                                                  \n",
            " block3_sepconv1 (Separable  (None, 55, 55, 256)          33920     ['block3_sepconv1_act[0][0]'] \n",
            " Conv2D)                                                                                          \n",
            "                                                                                                  \n",
            " block3_sepconv1_bn (BatchN  (None, 55, 55, 256)          1024      ['block3_sepconv1[0][0]']     \n",
            " ormalization)                                                                                    \n",
            "                                                                                                  \n",
            " block3_sepconv2_act (Activ  (None, 55, 55, 256)          0         ['block3_sepconv1_bn[0][0]']  \n",
            " ation)                                                                                           \n",
            "                                                                                                  \n",
            " block3_sepconv2 (Separable  (None, 55, 55, 256)          67840     ['block3_sepconv2_act[0][0]'] \n",
            " Conv2D)                                                                                          \n",
            "                                                                                                  \n",
            " block3_sepconv2_bn (BatchN  (None, 55, 55, 256)          1024      ['block3_sepconv2[0][0]']     \n",
            " ormalization)                                                                                    \n",
            "                                                                                                  \n",
            " conv2d_17 (Conv2D)          (None, 28, 28, 256)          32768     ['add_12[0][0]']              \n",
            "                                                                                                  \n",
            " block3_pool (MaxPooling2D)  (None, 28, 28, 256)          0         ['block3_sepconv2_bn[0][0]']  \n",
            "                                                                                                  \n",
            " batch_normalization_5 (Bat  (None, 28, 28, 256)          1024      ['conv2d_17[0][0]']           \n",
            " chNormalization)                                                                                 \n",
            "                                                                                                  \n",
            " add_13 (Add)                (None, 28, 28, 256)          0         ['block3_pool[0][0]',         \n",
            "                                                                     'batch_normalization_5[0][0]'\n",
            "                                                                    ]                             \n",
            "                                                                                                  \n",
            " block4_sepconv1_act (Activ  (None, 28, 28, 256)          0         ['add_13[0][0]']              \n",
            " ation)                                                                                           \n",
            "                                                                                                  \n",
            " block4_sepconv1 (Separable  (None, 28, 28, 728)          188672    ['block4_sepconv1_act[0][0]'] \n",
            " Conv2D)                                                                                          \n",
            "                                                                                                  \n",
            " block4_sepconv1_bn (BatchN  (None, 28, 28, 728)          2912      ['block4_sepconv1[0][0]']     \n",
            " ormalization)                                                                                    \n",
            "                                                                                                  \n",
            " block4_sepconv2_act (Activ  (None, 28, 28, 728)          0         ['block4_sepconv1_bn[0][0]']  \n",
            " ation)                                                                                           \n",
            "                                                                                                  \n",
            " block4_sepconv2 (Separable  (None, 28, 28, 728)          536536    ['block4_sepconv2_act[0][0]'] \n",
            " Conv2D)                                                                                          \n",
            "                                                                                                  \n",
            " block4_sepconv2_bn (BatchN  (None, 28, 28, 728)          2912      ['block4_sepconv2[0][0]']     \n",
            " ormalization)                                                                                    \n",
            "                                                                                                  \n",
            " conv2d_18 (Conv2D)          (None, 14, 14, 728)          186368    ['add_13[0][0]']              \n",
            "                                                                                                  \n",
            " block4_pool (MaxPooling2D)  (None, 14, 14, 728)          0         ['block4_sepconv2_bn[0][0]']  \n",
            "                                                                                                  \n",
            " batch_normalization_6 (Bat  (None, 14, 14, 728)          2912      ['conv2d_18[0][0]']           \n",
            " chNormalization)                                                                                 \n",
            "                                                                                                  \n",
            " add_14 (Add)                (None, 14, 14, 728)          0         ['block4_pool[0][0]',         \n",
            "                                                                     'batch_normalization_6[0][0]'\n",
            "                                                                    ]                             \n",
            "                                                                                                  \n",
            " block5_sepconv1_act (Activ  (None, 14, 14, 728)          0         ['add_14[0][0]']              \n",
            " ation)                                                                                           \n",
            "                                                                                                  \n",
            " block5_sepconv1 (Separable  (None, 14, 14, 728)          536536    ['block5_sepconv1_act[0][0]'] \n",
            " Conv2D)                                                                                          \n",
            "                                                                                                  \n",
            " block5_sepconv1_bn (BatchN  (None, 14, 14, 728)          2912      ['block5_sepconv1[0][0]']     \n",
            " ormalization)                                                                                    \n",
            "                                                                                                  \n",
            " block5_sepconv2_act (Activ  (None, 14, 14, 728)          0         ['block5_sepconv1_bn[0][0]']  \n",
            " ation)                                                                                           \n",
            "                                                                                                  \n",
            " block5_sepconv2 (Separable  (None, 14, 14, 728)          536536    ['block5_sepconv2_act[0][0]'] \n",
            " Conv2D)                                                                                          \n",
            "                                                                                                  \n",
            " block5_sepconv2_bn (BatchN  (None, 14, 14, 728)          2912      ['block5_sepconv2[0][0]']     \n",
            " ormalization)                                                                                    \n",
            "                                                                                                  \n",
            " block5_sepconv3_act (Activ  (None, 14, 14, 728)          0         ['block5_sepconv2_bn[0][0]']  \n",
            " ation)                                                                                           \n",
            "                                                                                                  \n",
            " block5_sepconv3 (Separable  (None, 14, 14, 728)          536536    ['block5_sepconv3_act[0][0]'] \n",
            " Conv2D)                                                                                          \n",
            "                                                                                                  \n",
            " block5_sepconv3_bn (BatchN  (None, 14, 14, 728)          2912      ['block5_sepconv3[0][0]']     \n",
            " ormalization)                                                                                    \n",
            "                                                                                                  \n",
            " add_15 (Add)                (None, 14, 14, 728)          0         ['block5_sepconv3_bn[0][0]',  \n",
            "                                                                     'add_14[0][0]']              \n",
            "                                                                                                  \n",
            " block6_sepconv1_act (Activ  (None, 14, 14, 728)          0         ['add_15[0][0]']              \n",
            " ation)                                                                                           \n",
            "                                                                                                  \n",
            " block6_sepconv1 (Separable  (None, 14, 14, 728)          536536    ['block6_sepconv1_act[0][0]'] \n",
            " Conv2D)                                                                                          \n",
            "                                                                                                  \n",
            " block6_sepconv1_bn (BatchN  (None, 14, 14, 728)          2912      ['block6_sepconv1[0][0]']     \n",
            " ormalization)                                                                                    \n",
            "                                                                                                  \n",
            " block6_sepconv2_act (Activ  (None, 14, 14, 728)          0         ['block6_sepconv1_bn[0][0]']  \n",
            " ation)                                                                                           \n",
            "                                                                                                  \n",
            " block6_sepconv2 (Separable  (None, 14, 14, 728)          536536    ['block6_sepconv2_act[0][0]'] \n",
            " Conv2D)                                                                                          \n",
            "                                                                                                  \n",
            " block6_sepconv2_bn (BatchN  (None, 14, 14, 728)          2912      ['block6_sepconv2[0][0]']     \n",
            " ormalization)                                                                                    \n",
            "                                                                                                  \n",
            " block6_sepconv3_act (Activ  (None, 14, 14, 728)          0         ['block6_sepconv2_bn[0][0]']  \n",
            " ation)                                                                                           \n",
            "                                                                                                  \n",
            " block6_sepconv3 (Separable  (None, 14, 14, 728)          536536    ['block6_sepconv3_act[0][0]'] \n",
            " Conv2D)                                                                                          \n",
            "                                                                                                  \n",
            " block6_sepconv3_bn (BatchN  (None, 14, 14, 728)          2912      ['block6_sepconv3[0][0]']     \n",
            " ormalization)                                                                                    \n",
            "                                                                                                  \n",
            " add_16 (Add)                (None, 14, 14, 728)          0         ['block6_sepconv3_bn[0][0]',  \n",
            "                                                                     'add_15[0][0]']              \n",
            "                                                                                                  \n",
            " block7_sepconv1_act (Activ  (None, 14, 14, 728)          0         ['add_16[0][0]']              \n",
            " ation)                                                                                           \n",
            "                                                                                                  \n",
            " block7_sepconv1 (Separable  (None, 14, 14, 728)          536536    ['block7_sepconv1_act[0][0]'] \n",
            " Conv2D)                                                                                          \n",
            "                                                                                                  \n",
            " block7_sepconv1_bn (BatchN  (None, 14, 14, 728)          2912      ['block7_sepconv1[0][0]']     \n",
            " ormalization)                                                                                    \n",
            "                                                                                                  \n",
            " block7_sepconv2_act (Activ  (None, 14, 14, 728)          0         ['block7_sepconv1_bn[0][0]']  \n",
            " ation)                                                                                           \n",
            "                                                                                                  \n",
            " block7_sepconv2 (Separable  (None, 14, 14, 728)          536536    ['block7_sepconv2_act[0][0]'] \n",
            " Conv2D)                                                                                          \n",
            "                                                                                                  \n",
            " block7_sepconv2_bn (BatchN  (None, 14, 14, 728)          2912      ['block7_sepconv2[0][0]']     \n",
            " ormalization)                                                                                    \n",
            "                                                                                                  \n",
            " block7_sepconv3_act (Activ  (None, 14, 14, 728)          0         ['block7_sepconv2_bn[0][0]']  \n",
            " ation)                                                                                           \n",
            "                                                                                                  \n",
            " block7_sepconv3 (Separable  (None, 14, 14, 728)          536536    ['block7_sepconv3_act[0][0]'] \n",
            " Conv2D)                                                                                          \n",
            "                                                                                                  \n",
            " block7_sepconv3_bn (BatchN  (None, 14, 14, 728)          2912      ['block7_sepconv3[0][0]']     \n",
            " ormalization)                                                                                    \n",
            "                                                                                                  \n",
            " add_17 (Add)                (None, 14, 14, 728)          0         ['block7_sepconv3_bn[0][0]',  \n",
            "                                                                     'add_16[0][0]']              \n",
            "                                                                                                  \n",
            " block8_sepconv1_act (Activ  (None, 14, 14, 728)          0         ['add_17[0][0]']              \n",
            " ation)                                                                                           \n",
            "                                                                                                  \n",
            " block8_sepconv1 (Separable  (None, 14, 14, 728)          536536    ['block8_sepconv1_act[0][0]'] \n",
            " Conv2D)                                                                                          \n",
            "                                                                                                  \n",
            " block8_sepconv1_bn (BatchN  (None, 14, 14, 728)          2912      ['block8_sepconv1[0][0]']     \n",
            " ormalization)                                                                                    \n",
            "                                                                                                  \n",
            " block8_sepconv2_act (Activ  (None, 14, 14, 728)          0         ['block8_sepconv1_bn[0][0]']  \n",
            " ation)                                                                                           \n",
            "                                                                                                  \n",
            " block8_sepconv2 (Separable  (None, 14, 14, 728)          536536    ['block8_sepconv2_act[0][0]'] \n",
            " Conv2D)                                                                                          \n",
            "                                                                                                  \n",
            " block8_sepconv2_bn (BatchN  (None, 14, 14, 728)          2912      ['block8_sepconv2[0][0]']     \n",
            " ormalization)                                                                                    \n",
            "                                                                                                  \n",
            " block8_sepconv3_act (Activ  (None, 14, 14, 728)          0         ['block8_sepconv2_bn[0][0]']  \n",
            " ation)                                                                                           \n",
            "                                                                                                  \n",
            " block8_sepconv3 (Separable  (None, 14, 14, 728)          536536    ['block8_sepconv3_act[0][0]'] \n",
            " Conv2D)                                                                                          \n",
            "                                                                                                  \n",
            " block8_sepconv3_bn (BatchN  (None, 14, 14, 728)          2912      ['block8_sepconv3[0][0]']     \n",
            " ormalization)                                                                                    \n",
            "                                                                                                  \n",
            " add_18 (Add)                (None, 14, 14, 728)          0         ['block8_sepconv3_bn[0][0]',  \n",
            "                                                                     'add_17[0][0]']              \n",
            "                                                                                                  \n",
            " block9_sepconv1_act (Activ  (None, 14, 14, 728)          0         ['add_18[0][0]']              \n",
            " ation)                                                                                           \n",
            "                                                                                                  \n",
            " block9_sepconv1 (Separable  (None, 14, 14, 728)          536536    ['block9_sepconv1_act[0][0]'] \n",
            " Conv2D)                                                                                          \n",
            "                                                                                                  \n",
            " block9_sepconv1_bn (BatchN  (None, 14, 14, 728)          2912      ['block9_sepconv1[0][0]']     \n",
            " ormalization)                                                                                    \n",
            "                                                                                                  \n",
            " block9_sepconv2_act (Activ  (None, 14, 14, 728)          0         ['block9_sepconv1_bn[0][0]']  \n",
            " ation)                                                                                           \n",
            "                                                                                                  \n",
            " block9_sepconv2 (Separable  (None, 14, 14, 728)          536536    ['block9_sepconv2_act[0][0]'] \n",
            " Conv2D)                                                                                          \n",
            "                                                                                                  \n",
            " block9_sepconv2_bn (BatchN  (None, 14, 14, 728)          2912      ['block9_sepconv2[0][0]']     \n",
            " ormalization)                                                                                    \n",
            "                                                                                                  \n",
            " block9_sepconv3_act (Activ  (None, 14, 14, 728)          0         ['block9_sepconv2_bn[0][0]']  \n",
            " ation)                                                                                           \n",
            "                                                                                                  \n",
            " block9_sepconv3 (Separable  (None, 14, 14, 728)          536536    ['block9_sepconv3_act[0][0]'] \n",
            " Conv2D)                                                                                          \n",
            "                                                                                                  \n",
            " block9_sepconv3_bn (BatchN  (None, 14, 14, 728)          2912      ['block9_sepconv3[0][0]']     \n",
            " ormalization)                                                                                    \n",
            "                                                                                                  \n",
            " add_19 (Add)                (None, 14, 14, 728)          0         ['block9_sepconv3_bn[0][0]',  \n",
            "                                                                     'add_18[0][0]']              \n",
            "                                                                                                  \n",
            " block10_sepconv1_act (Acti  (None, 14, 14, 728)          0         ['add_19[0][0]']              \n",
            " vation)                                                                                          \n",
            "                                                                                                  \n",
            " block10_sepconv1 (Separabl  (None, 14, 14, 728)          536536    ['block10_sepconv1_act[0][0]']\n",
            " eConv2D)                                                                                         \n",
            "                                                                                                  \n",
            " block10_sepconv1_bn (Batch  (None, 14, 14, 728)          2912      ['block10_sepconv1[0][0]']    \n",
            " Normalization)                                                                                   \n",
            "                                                                                                  \n",
            " block10_sepconv2_act (Acti  (None, 14, 14, 728)          0         ['block10_sepconv1_bn[0][0]'] \n",
            " vation)                                                                                          \n",
            "                                                                                                  \n",
            " block10_sepconv2 (Separabl  (None, 14, 14, 728)          536536    ['block10_sepconv2_act[0][0]']\n",
            " eConv2D)                                                                                         \n",
            "                                                                                                  \n",
            " block10_sepconv2_bn (Batch  (None, 14, 14, 728)          2912      ['block10_sepconv2[0][0]']    \n",
            " Normalization)                                                                                   \n",
            "                                                                                                  \n",
            " block10_sepconv3_act (Acti  (None, 14, 14, 728)          0         ['block10_sepconv2_bn[0][0]'] \n",
            " vation)                                                                                          \n",
            "                                                                                                  \n",
            " block10_sepconv3 (Separabl  (None, 14, 14, 728)          536536    ['block10_sepconv3_act[0][0]']\n",
            " eConv2D)                                                                                         \n",
            "                                                                                                  \n",
            " block10_sepconv3_bn (Batch  (None, 14, 14, 728)          2912      ['block10_sepconv3[0][0]']    \n",
            " Normalization)                                                                                   \n",
            "                                                                                                  \n",
            " add_20 (Add)                (None, 14, 14, 728)          0         ['block10_sepconv3_bn[0][0]', \n",
            "                                                                     'add_19[0][0]']              \n",
            "                                                                                                  \n",
            " block11_sepconv1_act (Acti  (None, 14, 14, 728)          0         ['add_20[0][0]']              \n",
            " vation)                                                                                          \n",
            "                                                                                                  \n",
            " block11_sepconv1 (Separabl  (None, 14, 14, 728)          536536    ['block11_sepconv1_act[0][0]']\n",
            " eConv2D)                                                                                         \n",
            "                                                                                                  \n",
            " block11_sepconv1_bn (Batch  (None, 14, 14, 728)          2912      ['block11_sepconv1[0][0]']    \n",
            " Normalization)                                                                                   \n",
            "                                                                                                  \n",
            " block11_sepconv2_act (Acti  (None, 14, 14, 728)          0         ['block11_sepconv1_bn[0][0]'] \n",
            " vation)                                                                                          \n",
            "                                                                                                  \n",
            " block11_sepconv2 (Separabl  (None, 14, 14, 728)          536536    ['block11_sepconv2_act[0][0]']\n",
            " eConv2D)                                                                                         \n",
            "                                                                                                  \n",
            " block11_sepconv2_bn (Batch  (None, 14, 14, 728)          2912      ['block11_sepconv2[0][0]']    \n",
            " Normalization)                                                                                   \n",
            "                                                                                                  \n",
            " block11_sepconv3_act (Acti  (None, 14, 14, 728)          0         ['block11_sepconv2_bn[0][0]'] \n",
            " vation)                                                                                          \n",
            "                                                                                                  \n",
            " block11_sepconv3 (Separabl  (None, 14, 14, 728)          536536    ['block11_sepconv3_act[0][0]']\n",
            " eConv2D)                                                                                         \n",
            "                                                                                                  \n",
            " block11_sepconv3_bn (Batch  (None, 14, 14, 728)          2912      ['block11_sepconv3[0][0]']    \n",
            " Normalization)                                                                                   \n",
            "                                                                                                  \n",
            " add_21 (Add)                (None, 14, 14, 728)          0         ['block11_sepconv3_bn[0][0]', \n",
            "                                                                     'add_20[0][0]']              \n",
            "                                                                                                  \n",
            " block12_sepconv1_act (Acti  (None, 14, 14, 728)          0         ['add_21[0][0]']              \n",
            " vation)                                                                                          \n",
            "                                                                                                  \n",
            " block12_sepconv1 (Separabl  (None, 14, 14, 728)          536536    ['block12_sepconv1_act[0][0]']\n",
            " eConv2D)                                                                                         \n",
            "                                                                                                  \n",
            " block12_sepconv1_bn (Batch  (None, 14, 14, 728)          2912      ['block12_sepconv1[0][0]']    \n",
            " Normalization)                                                                                   \n",
            "                                                                                                  \n",
            " block12_sepconv2_act (Acti  (None, 14, 14, 728)          0         ['block12_sepconv1_bn[0][0]'] \n",
            " vation)                                                                                          \n",
            "                                                                                                  \n",
            " block12_sepconv2 (Separabl  (None, 14, 14, 728)          536536    ['block12_sepconv2_act[0][0]']\n",
            " eConv2D)                                                                                         \n",
            "                                                                                                  \n",
            " block12_sepconv2_bn (Batch  (None, 14, 14, 728)          2912      ['block12_sepconv2[0][0]']    \n",
            " Normalization)                                                                                   \n",
            "                                                                                                  \n",
            " block12_sepconv3_act (Acti  (None, 14, 14, 728)          0         ['block12_sepconv2_bn[0][0]'] \n",
            " vation)                                                                                          \n",
            "                                                                                                  \n",
            " block12_sepconv3 (Separabl  (None, 14, 14, 728)          536536    ['block12_sepconv3_act[0][0]']\n",
            " eConv2D)                                                                                         \n",
            "                                                                                                  \n",
            " block12_sepconv3_bn (Batch  (None, 14, 14, 728)          2912      ['block12_sepconv3[0][0]']    \n",
            " Normalization)                                                                                   \n",
            "                                                                                                  \n",
            " add_22 (Add)                (None, 14, 14, 728)          0         ['block12_sepconv3_bn[0][0]', \n",
            "                                                                     'add_21[0][0]']              \n",
            "                                                                                                  \n",
            " block13_sepconv1_act (Acti  (None, 14, 14, 728)          0         ['add_22[0][0]']              \n",
            " vation)                                                                                          \n",
            "                                                                                                  \n",
            " block13_sepconv1 (Separabl  (None, 14, 14, 728)          536536    ['block13_sepconv1_act[0][0]']\n",
            " eConv2D)                                                                                         \n",
            "                                                                                                  \n",
            " block13_sepconv1_bn (Batch  (None, 14, 14, 728)          2912      ['block13_sepconv1[0][0]']    \n",
            " Normalization)                                                                                   \n",
            "                                                                                                  \n",
            " block13_sepconv2_act (Acti  (None, 14, 14, 728)          0         ['block13_sepconv1_bn[0][0]'] \n",
            " vation)                                                                                          \n",
            "                                                                                                  \n",
            " block13_sepconv2 (Separabl  (None, 14, 14, 1024)         752024    ['block13_sepconv2_act[0][0]']\n",
            " eConv2D)                                                                                         \n",
            "                                                                                                  \n",
            " block13_sepconv2_bn (Batch  (None, 14, 14, 1024)         4096      ['block13_sepconv2[0][0]']    \n",
            " Normalization)                                                                                   \n",
            "                                                                                                  \n",
            " conv2d_19 (Conv2D)          (None, 7, 7, 1024)           745472    ['add_22[0][0]']              \n",
            "                                                                                                  \n",
            " block13_pool (MaxPooling2D  (None, 7, 7, 1024)           0         ['block13_sepconv2_bn[0][0]'] \n",
            " )                                                                                                \n",
            "                                                                                                  \n",
            " batch_normalization_7 (Bat  (None, 7, 7, 1024)           4096      ['conv2d_19[0][0]']           \n",
            " chNormalization)                                                                                 \n",
            "                                                                                                  \n",
            " add_23 (Add)                (None, 7, 7, 1024)           0         ['block13_pool[0][0]',        \n",
            "                                                                     'batch_normalization_7[0][0]'\n",
            "                                                                    ]                             \n",
            "                                                                                                  \n",
            " block14_sepconv1 (Separabl  (None, 7, 7, 1536)           1582080   ['add_23[0][0]']              \n",
            " eConv2D)                                                                                         \n",
            "                                                                                                  \n",
            " block14_sepconv1_bn (Batch  (None, 7, 7, 1536)           6144      ['block14_sepconv1[0][0]']    \n",
            " Normalization)                                                                                   \n",
            "                                                                                                  \n",
            " block14_sepconv1_act (Acti  (None, 7, 7, 1536)           0         ['block14_sepconv1_bn[0][0]'] \n",
            " vation)                                                                                          \n",
            "                                                                                                  \n",
            " block14_sepconv2 (Separabl  (None, 7, 7, 2048)           3159552   ['block14_sepconv1_act[0][0]']\n",
            " eConv2D)                                                                                         \n",
            "                                                                                                  \n",
            " block14_sepconv2_bn (Batch  (None, 7, 7, 2048)           8192      ['block14_sepconv2[0][0]']    \n",
            " Normalization)                                                                                   \n",
            "                                                                                                  \n",
            " block14_sepconv2_act (Acti  (None, 7, 7, 2048)           0         ['block14_sepconv2_bn[0][0]'] \n",
            " vation)                                                                                          \n",
            "                                                                                                  \n",
            " global_average_pooling2d (  (None, 2048)                 0         ['block14_sepconv2_act[0][0]']\n",
            " GlobalAveragePooling2D)                                                                          \n",
            "                                                                                                  \n",
            " dense_12 (Dense)            (None, 1025)                 2100225   ['global_average_pooling2d[0][\n",
            "                                                                    0]']                          \n",
            "                                                                                                  \n",
            " dropout_9 (Dropout)         (None, 1025)                 0         ['dense_12[0][0]']            \n",
            "                                                                                                  \n",
            " dense_13 (Dense)            (None, 1025)                 1051650   ['dropout_9[0][0]']           \n",
            "                                                                                                  \n",
            " dropout_10 (Dropout)        (None, 1025)                 0         ['dense_13[0][0]']            \n",
            "                                                                                                  \n",
            " dense_14 (Dense)            (None, 1025)                 1051650   ['dropout_10[0][0]']          \n",
            "                                                                                                  \n",
            " dropout_11 (Dropout)        (None, 1025)                 0         ['dense_14[0][0]']            \n",
            "                                                                                                  \n",
            " dense_15 (Dense)            (None, 2)                    2052      ['dropout_11[0][0]']          \n",
            "                                                                                                  \n",
            "==================================================================================================\n",
            "Total params: 25067057 (95.62 MB)\n",
            "Trainable params: 25012529 (95.42 MB)\n",
            "Non-trainable params: 54528 (213.00 KB)\n",
            "__________________________________________________________________________________________________\n"
          ]
        }
      ],
      "source": [
        "network_fine_tunning = Model(inputs= resnet.input, outputs= camada_densa_output)\n",
        "network_fine_tunning.summary()"
      ]
    },
    {
      "cell_type": "markdown",
      "metadata": {
        "id": "_n1eaSRmN1ya"
      },
      "source": [
        "### <font color='yellowgreen'> **Treinando Modelo**"
      ]
    },
    {
      "cell_type": "code",
      "execution_count": 53,
      "metadata": {
        "colab": {
          "base_uri": "https://localhost:8080/"
        },
        "id": "lgdfqbY2IRlr",
        "outputId": "7d43f8c0-c0f4-43f7-8ca2-ba5fcb7fc082"
      },
      "outputs": [
        {
          "name": "stdout",
          "output_type": "stream",
          "text": [
            "Epoch 1/15\n",
            "65/65 [==============================] - 85s 830ms/step - loss: 0.4052 - accuracy: 0.8367 - val_loss: 1.5042 - val_accuracy: 0.8267\n",
            "Epoch 2/15\n",
            "65/65 [==============================] - 47s 722ms/step - loss: 0.1694 - accuracy: 0.9485 - val_loss: 0.6835 - val_accuracy: 0.8004\n",
            "Epoch 3/15\n",
            "65/65 [==============================] - 46s 704ms/step - loss: 0.1313 - accuracy: 0.9619 - val_loss: 1.0392 - val_accuracy: 0.8719\n",
            "Epoch 4/15\n",
            "65/65 [==============================] - 47s 728ms/step - loss: 0.1096 - accuracy: 0.9668 - val_loss: 3.7660 - val_accuracy: 0.5348\n",
            "Epoch 5/15\n",
            "65/65 [==============================] - 47s 717ms/step - loss: 0.1051 - accuracy: 0.9677 - val_loss: 0.3366 - val_accuracy: 0.9529\n",
            "Epoch 6/15\n",
            "65/65 [==============================] - 51s 776ms/step - loss: 0.1240 - accuracy: 0.9639 - val_loss: 2.4554 - val_accuracy: 0.8324\n",
            "Epoch 7/15\n",
            "65/65 [==============================] - 51s 775ms/step - loss: 0.1103 - accuracy: 0.9658 - val_loss: 3.9802 - val_accuracy: 0.8475\n",
            "Epoch 8/15\n",
            "65/65 [==============================] - 46s 700ms/step - loss: 0.0842 - accuracy: 0.9764 - val_loss: 0.3798 - val_accuracy: 0.9548\n",
            "Epoch 9/15\n",
            "65/65 [==============================] - 47s 715ms/step - loss: 0.0888 - accuracy: 0.9788 - val_loss: 0.9913 - val_accuracy: 0.9190\n",
            "Epoch 10/15\n",
            "65/65 [==============================] - 47s 716ms/step - loss: 0.1038 - accuracy: 0.9687 - val_loss: 0.1265 - val_accuracy: 0.9736\n",
            "Epoch 11/15\n",
            "65/65 [==============================] - 50s 773ms/step - loss: 0.0835 - accuracy: 0.9778 - val_loss: 0.4411 - val_accuracy: 0.9473\n",
            "Epoch 12/15\n",
            "65/65 [==============================] - 46s 709ms/step - loss: 0.0595 - accuracy: 0.9798 - val_loss: 0.3365 - val_accuracy: 0.9492\n",
            "Epoch 13/15\n",
            "65/65 [==============================] - 47s 720ms/step - loss: 0.0604 - accuracy: 0.9817 - val_loss: 0.4535 - val_accuracy: 0.9492\n",
            "Epoch 14/15\n",
            "65/65 [==============================] - 47s 712ms/step - loss: 0.0549 - accuracy: 0.9841 - val_loss: 0.7126 - val_accuracy: 0.9416\n",
            "Epoch 15/15\n",
            "65/65 [==============================] - 47s 722ms/step - loss: 0.0805 - accuracy: 0.9769 - val_loss: 1.4971 - val_accuracy: 0.8475\n"
          ]
        }
      ],
      "source": [
        "network_fine_tunning.compile(optimizer='adam', loss='categorical_crossentropy', metrics=['accuracy'])\n",
        "resultados = network_fine_tunning.fit(imagens_treino, epochs= 15, validation_data= imagens_val)"
      ]
    },
    {
      "cell_type": "markdown",
      "metadata": {
        "id": "h1p3kGk5N5rt"
      },
      "source": [
        "### <font color='yellowgreen'> **Avaliando o Modelo**"
      ]
    },
    {
      "cell_type": "code",
      "execution_count": 54,
      "metadata": {
        "colab": {
          "base_uri": "https://localhost:8080/",
          "height": 451
        },
        "id": "IR977FLoIw62",
        "outputId": "9f49eeae-611e-40c2-af96-9cc066aec819"
      },
      "outputs": [
        {
          "data": {
            "image/png": "[encoded data removed]",
            "text/plain": [
              "<Figure size 1200x400 with 2 Axes>"
            ]
          },
          "metadata": {},
          "output_type": "display_data"
        }
      ],
      "source": [
        "fig, axs = plt.subplots(1, 2, figsize=(12,4))\n",
        "\n",
        "plt.suptitle('Gráficos de Desempenho do Modelo', y=1.01)\n",
        "axs[0].plot(resultados.history['accuracy'])\n",
        "axs[0].plot(resultados.history['val_accuracy'])\n",
        "axs[0].set_title('Acurácia')\n",
        "axs[0].set_xlabel('Nº de Épocas')\n",
        "axs[0].set_ylabel('Acurácia')\n",
        "\n",
        "axs[1].plot(resultados.history['loss'])\n",
        "axs[1].plot(resultados.history['val_loss'])\n",
        "axs[1].set_title('Perca')\n",
        "axs[1].set_xlabel('Nº de Épocas')\n",
        "axs[1].set_ylabel('Perca')\n",
        "plt.show()"
      ]
    },
    {
      "cell_type": "code",
      "execution_count": 57,
      "metadata": {
        "colab": {
          "base_uri": "https://localhost:8080/"
        },
        "id": "w2LZ71cnM5xh",
        "outputId": "aff8fb01-f9da-4a73-9162-12d93d7e8db2"
      },
      "outputs": [
        {
          "name": "stdout",
          "output_type": "stream",
          "text": [
            "531/531 [==============================] - 7s 10ms/step\n"
          ]
        }
      ],
      "source": [
        "previsoes_imagenet = network_fine_tunning.predict(imagens_val)\n",
        "previsoes_imagenet = np.argmax(previsoes_imagenet, axis=1)"
      ]
    },
    {
      "cell_type": "code",
      "execution_count": 58,
      "metadata": {
        "colab": {
          "base_uri": "https://localhost:8080/",
          "height": 614
        },
        "id": "xTTUGUnUNHjq",
        "outputId": "ec556829-2604-4821-aba1-158bdf38cb65"
      },
      "outputs": [
        {
          "name": "stdout",
          "output_type": "stream",
          "text": [
            "              precision    recall  f1-score   support\n",
            "\n",
            "           0       1.00      0.67      0.80       245\n",
            "           1       0.78      1.00      0.88       286\n",
            "\n",
            "    accuracy                           0.85       531\n",
            "   macro avg       0.89      0.83      0.84       531\n",
            "weighted avg       0.88      0.85      0.84       531\n",
            "\n"
          ]
        },
        {
          "data": {
            "image/png": "[encoded data removed]",
            "text/plain": [
              "<Figure size 640x480 with 2 Axes>"
            ]
          },
          "metadata": {},
          "output_type": "display_data"
        }
      ],
      "source": [
        "print(classification_report(imagens_val.classes, previsoes_imagenet))\n",
        "ConfusionMatrixDisplay.from_predictions(imagens_val.classes, previsoes_imagenet);"
      ]
    },
    {
      "cell_type": "code",
      "execution_count": 60,
      "metadata": {
        "colab": {
          "base_uri": "https://localhost:8080/"
        },
        "id": "N1XcCEfmOBRL",
        "outputId": "557cb100-99ab-48c1-ded8-8415a250a722"
      },
      "outputs": [
        {
          "name": "stdout",
          "output_type": "stream",
          "text": [
            "531/531 [==============================] - 7s 12ms/step - loss: 1.4971 - accuracy: 0.8475\n"
          ]
        }
      ],
      "source": [
        "loss, acc = network_fine_tunning.evaluate(imagens_val)"
      ]
    },
    {
      "cell_type": "code",
      "execution_count": null,
      "metadata": {
        "id": "ZHnysMi5OLAo"
      },
      "outputs": [],
      "source": []
    }
  ],
  "metadata": {
    "accelerator": "GPU",
    "colab": {
      "collapsed_sections": [
        "M3PJGoqvm4yM",
        "lrH8yU5on1Eq"
      ],
      "gpuType": "T4",
      "provenance": []
    },
    "kernelspec": {
      "display_name": "Python 3",
      "name": "python3"
    },
    "language_info": {
      "name": "python"
    }
  },
  "nbformat": 4,
  "nbformat_minor": 0
}
